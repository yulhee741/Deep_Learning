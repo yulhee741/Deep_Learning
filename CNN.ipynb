{
 "cells": [
  {
   "cell_type": "code",
   "execution_count": 5,
   "metadata": {},
   "outputs": [],
   "source": [
    "#im2col 함수 정의\n",
    "import numpy as np\n",
    "\n",
    "def im2col(image, flt_h, flt_w, out_h, out_w):\n",
    "    \n",
    "    img_h, img_w = image.shape #입력 이미지의 높이와 너비\n",
    "    \n",
    "    #생성되는 행렬 크기\n",
    "    cols = np.zeros((flt_h*flt_w, out_h*out_w))\n",
    "    \n",
    "    for h in range(out_h):\n",
    "        h_lim = h + flt_h\n",
    "        for w in range(out_w):\n",
    "            w_lim = w + flt_w\n",
    "            cols[:, h*out_w+w] = image[h:h_lim, w:w_lim].reshape(-1)\n",
    "            \n",
    "    return cols"
   ]
  },
  {
   "cell_type": "code",
   "execution_count": 6,
   "metadata": {},
   "outputs": [
    {
     "name": "stdout",
     "output_type": "stream",
     "text": [
      "[[ 1.  2.  3.  5.  6.  7.  9. 10. 11.]\n",
      " [ 2.  3.  4.  6.  7.  8. 10. 11. 12.]\n",
      " [ 5.  6.  7.  9. 10. 11. 13. 14. 15.]\n",
      " [ 6.  7.  8. 10. 11. 12. 14. 15. 16.]]\n"
     ]
    }
   ],
   "source": [
    "#활용\n",
    "img = np.array([[1, 2, 3, 4],\n",
    "                [5, 6, 7, 8],\n",
    "                [9, 10,11,12],\n",
    "                [13,14,15,16]])\n",
    "cols = im2col(img, 2, 2, 3, 3)\n",
    "print(cols)"
   ]
  },
  {
   "cell_type": "code",
   "execution_count": 7,
   "metadata": {},
   "outputs": [],
   "source": [
    "#함수 수정\n",
    "def im2col(image, flt_h, flt_w, out_h, out_w):\n",
    "    img_h, img_w = image.shape\n",
    "    cols = np.zeros((flt_h, flt_w, out_h, out_w))\n",
    "    for h in range(flt_h):\n",
    "        h_lim = h + out_h\n",
    "        for w in range(flt_w):\n",
    "            w_lim = w + out_w\n",
    "            cols[h, w, :, :] = image[h:h_lim, w:w_lim]\n",
    "            \n",
    "    cols = cols.reshape(flt_h*flt_w, out_h*out_w)\n",
    "    \n",
    "    return cols"
   ]
  },
  {
   "cell_type": "code",
   "execution_count": 8,
   "metadata": {},
   "outputs": [
    {
     "name": "stdout",
     "output_type": "stream",
     "text": [
      "[[ 1.  2.  3.  5.  6.  7.  9. 10. 11.]\n",
      " [ 2.  3.  4.  6.  7.  8. 10. 11. 12.]\n",
      " [ 5.  6.  7.  9. 10. 11. 13. 14. 15.]\n",
      " [ 6.  7.  8. 10. 11. 12. 14. 15. 16.]]\n"
     ]
    }
   ],
   "source": [
    "print(cols)"
   ]
  },
  {
   "cell_type": "code",
   "execution_count": 11,
   "metadata": {},
   "outputs": [],
   "source": [
    "\n",
    "def im2col(image, flt_h, flt_w, out_h, out_w):\n",
    "    img_h, img_w = image.shape\n",
    "    cols = np.zeros((flt_h, flt_w, out_h, out_w))\n",
    "    for h in range(flt_h):\n",
    "        h_lim = h + out_h\n",
    "        for w in range(flt_w):\n",
    "            w_lim = w + out_w\n",
    "            cols[h, w, :, :] = image[h:h_lim, w:w_lim]\n",
    "            \n",
    "    cols= cols.reshape(flt_h*flt_w, out_h*out_w)\n",
    "    \n",
    "    return cols\n"
   ]
  },
  {
   "cell_type": "code",
   "execution_count": 12,
   "metadata": {},
   "outputs": [
    {
     "name": "stdout",
     "output_type": "stream",
     "text": [
      "[[ 1.  2.  3.  5.  6.  7.  9. 10. 11.]\n",
      " [ 2.  3.  4.  6.  7.  8. 10. 11. 12.]\n",
      " [ 5.  6.  7.  9. 10. 11. 13. 14. 15.]\n",
      " [ 6.  7.  8. 10. 11. 12. 14. 15. 16.]]\n"
     ]
    }
   ],
   "source": [
    "print(cols)"
   ]
  },
  {
   "cell_type": "code",
   "execution_count": 1,
   "metadata": {},
   "outputs": [],
   "source": [
    "#배치와 채널을 고려한 실전 im2col 코드\n",
    "def im2col(images, flt_h, flt_w, out_h, out_w):\n",
    "    \n",
    "    #배치 사이즈, 채널 수, 입력 이미지 높이, 너비\n",
    "    n_bt, n_ch, img_h, img_w = images.shape\n",
    "    \n",
    "    cols = np.zeros((n_bt, n_ch, flt_h, flt_w, out_h, out_w))\n",
    "    \n",
    "    for h in range(flt_h):\n",
    "        h_lim = h + out_h\n",
    "        for w in range(flt_w):\n",
    "            w_lim = w + out_w\n",
    "            cols[:, :, h, w, :, :] = images[:, :, h:h_lim, w:w_lim]\n",
    "            \n",
    "    cols = cols.transpose(1, 2, 3, 0, 4, 5).reshape(\n",
    "            n_ch*flt_h*flt_w, n_bt*out_h*out_w)\n",
    "    return cols"
   ]
  },
  {
   "cell_type": "code",
   "execution_count": 7,
   "metadata": {},
   "outputs": [],
   "source": [
    "#패딩과 스트라이드를 고려한 im2col 함수\n",
    "def im2col(images, flt_h, flt_w, out_h, out_w, stride,pad):\n",
    "    \n",
    "    n_bt, n_ch, img_h, img_w = images.shape\n",
    "    \n",
    "    img_pad = np.pad(images, [(0,0), (0,0), (pad, pad), (pad, pad)], \"constant\")\n",
    "    cols = np.zeros((n_bt, n_ch, flt_h, flt_w, out_h, out_w))\n",
    "    \n",
    "    for h in range(flt_h):\n",
    "        h_lim = h + stride*out_h\n",
    "        for w in range(flt_w):\n",
    "            w_lim = w + stride*out_w\n",
    "            cols[:, :, h, w, :, :] = img_pad[:, :, h:h_lim:stride, w:w_lim:stride]\n",
    "            \n",
    "    cols = cols.transpose(1, 2, 3, 0, 4, 5).reshape(n_ch*flt_h*flt_w,n_bt*out_h*out_w)\n",
    "    return cols"
   ]
  },
  {
   "cell_type": "code",
   "execution_count": 9,
   "metadata": {},
   "outputs": [
    {
     "name": "stdout",
     "output_type": "stream",
     "text": [
      "[[ 1.  2.  3.  5.  6.  7.  9. 10. 11.]\n",
      " [ 2.  3.  4.  6.  7.  8. 10. 11. 12.]\n",
      " [ 5.  6.  7.  9. 10. 11. 13. 14. 15.]\n",
      " [ 6.  7.  8. 10. 11. 12. 14. 15. 16.]]\n"
     ]
    }
   ],
   "source": [
    "import numpy as np\n",
    "\n",
    "img = np.array([[[[1, 2, 3, 4],\n",
    "                  [5, 6, 7, 8],\n",
    "                  [9, 10, 11, 12],\n",
    "                  [13, 14, 15, 16]]]])\n",
    "cols = im2col(img, 2, 2, 3, 3, 1, 0)\n",
    "print(cols)"
   ]
  },
  {
   "cell_type": "code",
   "execution_count": 1,
   "metadata": {},
   "outputs": [],
   "source": [
    "#col2im 구현 - 정의\n",
    "def col2im(cols, img_shape, flt_h, flt_w, out_h, out_w, stride, pad):\n",
    "    n_bt, n_ch, img_h, img_w = img_shape\n",
    "    \n",
    "    cols = cols.reshape(n_ch, flt_h, flt_w, n_bt, out_h,\n",
    "                        out_w).transpose(3, 0, 1, 2, 4, 5)\n",
    "    images = np.zeros((n_bt, n_ch, img_h+2*pad+stride-1, img_w+2*pad+stride-1))\n",
    "    \n",
    "    for h in range(flt_h):\n",
    "        h_lim = h + stride*out_h\n",
    "        for w in range(flt_w):\n",
    "            w_lim = w + stride*out_w\n",
    "            images[:, :, h:h_lim:stride,\n",
    "                   w:w_lim:stride] += cols[:, :, h, w, :, :]\n",
    "            \n",
    "    return images[:, :, pad:img_h+pad, pad:img_w+pad]\n",
    "                    "
   ]
  },
  {
   "cell_type": "code",
   "execution_count": 3,
   "metadata": {},
   "outputs": [
    {
     "name": "stdout",
     "output_type": "stream",
     "text": [
      "[[[[1. 2. 1.]\n",
      "   [2. 4. 2.]\n",
      "   [1. 2. 1.]]]]\n"
     ]
    }
   ],
   "source": [
    "import numpy as np\n",
    "\n",
    "cols = np.ones((4,4))\n",
    "img_shape = (1, 1, 3, 3)\n",
    "images = col2im(cols, img_shape, 2, 2, 2, 2, 1, 0)\n",
    "print(images)"
   ]
  },
  {
   "cell_type": "code",
   "execution_count": 4,
   "metadata": {},
   "outputs": [],
   "source": [
    "#컨볼루션층 구현 - ConvLayer 클래스 생성자\n",
    "class ConvLayer:\n",
    "    \n",
    "    #x_ch: 입력 채널 수, x_h:입력 이미지 높이, x_w:입력 이미지 너비\n",
    "    #n_flt:필터 수, flt_h:필터 높이, flt_w:필터 너비\n",
    "    #stride:스트라이드 너비, pad:패딩 너비\n",
    "    \n",
    "    def __init__(self, x_ch, x_h, x_w, n_flt, flt_h, flt_w, stride, pad):\n",
    "        \n",
    "        #파라미터 정리\n",
    "        self.params = (x_ch, x_h, x_w, n_flt, flt_h, flt_w, stride, pad)\n",
    "        \n",
    "        #필터와 편향 초깃값\n",
    "        self.w = wb_width * np.random.randn(n_flt, x_ch, flt_h, flt_w)\n",
    "        self.b = wb_width * np.random.randn(1, n_flt)\n",
    "        \n",
    "        #출력 이미지 크기\n",
    "        self.y_ch = n_flt #출력 채널수\n",
    "        self.y_h = (x_h - flt_h + 2*pad) // stride + 1 #출력 높이\n",
    "        slef.y_w = (x_w - flt_w + 2*pad) // stride + 1 #출력 너비\n",
    "        "
   ]
  },
  {
   "cell_type": "code",
   "execution_count": null,
   "metadata": {},
   "outputs": [],
   "source": []
  }
 ],
 "metadata": {
  "kernelspec": {
   "display_name": "Python 3",
   "language": "python",
   "name": "python3"
  },
  "language_info": {
   "codemirror_mode": {
    "name": "ipython",
    "version": 3
   },
   "file_extension": ".py",
   "mimetype": "text/x-python",
   "name": "python",
   "nbconvert_exporter": "python",
   "pygments_lexer": "ipython3",
   "version": "3.8.3"
  }
 },
 "nbformat": 4,
 "nbformat_minor": 4
}
