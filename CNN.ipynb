{
 "cells": [
  {
   "cell_type": "code",
   "execution_count": 5,
   "metadata": {},
   "outputs": [],
   "source": [
    "#im2col 함수 정의\n",
    "import numpy as np\n",
    "\n",
    "def im2col(image, flt_h, flt_w, out_h, out_w):\n",
    "    \n",
    "    img_h, img_w = image.shape #입력 이미지의 높이와 너비\n",
    "    \n",
    "    #생성되는 행렬 크기\n",
    "    cols = np.zeros((flt_h*flt_w, out_h*out_w))\n",
    "    \n",
    "    for h in range(out_h):\n",
    "        h_lim = h + flt_h\n",
    "        for w in range(out_w):\n",
    "            w_lim = w + flt_w\n",
    "            cols[:, h*out_w+w] = image[h:h_lim, w:w_lim].reshape(-1)\n",
    "            \n",
    "    return cols"
   ]
  },
  {
   "cell_type": "code",
   "execution_count": 6,
   "metadata": {},
   "outputs": [
    {
     "name": "stdout",
     "output_type": "stream",
     "text": [
      "[[ 1.  2.  3.  5.  6.  7.  9. 10. 11.]\n",
      " [ 2.  3.  4.  6.  7.  8. 10. 11. 12.]\n",
      " [ 5.  6.  7.  9. 10. 11. 13. 14. 15.]\n",
      " [ 6.  7.  8. 10. 11. 12. 14. 15. 16.]]\n"
     ]
    }
   ],
   "source": [
    "#활용\n",
    "img = np.array([[1, 2, 3, 4],\n",
    "                [5, 6, 7, 8],\n",
    "                [9, 10,11,12],\n",
    "                [13,14,15,16]])\n",
    "cols = im2col(img, 2, 2, 3, 3)\n",
    "print(cols)"
   ]
  },
  {
   "cell_type": "code",
   "execution_count": 7,
   "metadata": {},
   "outputs": [],
   "source": [
    "#함수 수정\n",
    "def im2col(image, flt_h, flt_w, out_h, out_w):\n",
    "    img_h, img_w = image.shape\n",
    "    cols = np.zeros((flt_h, flt_w, out_h, out_w))\n",
    "    for h in range(flt_h):\n",
    "        h_lim = h + out_h\n",
    "        for w in range(flt_w):\n",
    "            w_lim = w + out_w\n",
    "            cols[h, w, :, :] = image[h:h_lim, w:w_lim]\n",
    "            \n",
    "    cols = cols.reshape(flt_h*flt_w, out_h*out_w)\n",
    "    \n",
    "    return cols"
   ]
  },
  {
   "cell_type": "code",
   "execution_count": 8,
   "metadata": {},
   "outputs": [
    {
     "name": "stdout",
     "output_type": "stream",
     "text": [
      "[[ 1.  2.  3.  5.  6.  7.  9. 10. 11.]\n",
      " [ 2.  3.  4.  6.  7.  8. 10. 11. 12.]\n",
      " [ 5.  6.  7.  9. 10. 11. 13. 14. 15.]\n",
      " [ 6.  7.  8. 10. 11. 12. 14. 15. 16.]]\n"
     ]
    }
   ],
   "source": [
    "print(cols)"
   ]
  },
  {
   "cell_type": "code",
   "execution_count": 11,
   "metadata": {},
   "outputs": [],
   "source": [
    "\n",
    "def im2col(image, flt_h, flt_w, out_h, out_w):\n",
    "    img_h, img_w = image.shape\n",
    "    cols = np.zeros((flt_h, flt_w, out_h, out_w))\n",
    "    for h in range(flt_h):\n",
    "        h_lim = h + out_h\n",
    "        for w in range(flt_w):\n",
    "            w_lim = w + out_w\n",
    "            cols[h, w, :, :] = image[h:h_lim, w:w_lim]\n",
    "            \n",
    "    cols= cols.reshape(flt_h*flt_w, out_h*out_w)\n",
    "    \n",
    "    return cols\n"
   ]
  },
  {
   "cell_type": "code",
   "execution_count": 12,
   "metadata": {},
   "outputs": [
    {
     "name": "stdout",
     "output_type": "stream",
     "text": [
      "[[ 1.  2.  3.  5.  6.  7.  9. 10. 11.]\n",
      " [ 2.  3.  4.  6.  7.  8. 10. 11. 12.]\n",
      " [ 5.  6.  7.  9. 10. 11. 13. 14. 15.]\n",
      " [ 6.  7.  8. 10. 11. 12. 14. 15. 16.]]\n"
     ]
    }
   ],
   "source": [
    "print(cols)"
   ]
  },
  {
   "cell_type": "code",
   "execution_count": 1,
   "metadata": {},
   "outputs": [],
   "source": [
    "#배치와 채널을 고려한 실전 im2col 코드\n",
    "def im2col(images, flt_h, flt_w, out_h, out_w):\n",
    "    \n",
    "    #배치 사이즈, 채널 수, 입력 이미지 높이, 너비\n",
    "    n_bt, n_ch, img_h, img_w = images.shape\n",
    "    \n",
    "    cols = np.zeros((n_bt, n_ch, flt_h, flt_w, out_h, out_w))\n",
    "    \n",
    "    for h in range(flt_h):\n",
    "        h_lim = h + out_h\n",
    "        for w in range(flt_w):\n",
    "            w_lim = w + out_w\n",
    "            cols[:, :, h, w, :, :] = images[:, :, h:h_lim, w:w_lim]\n",
    "            \n",
    "    cols = cols.transpose(1, 2, 3, 0, 4, 5).reshape(\n",
    "            n_ch*flt_h*flt_w, n_bt*out_h*out_w)\n",
    "    return cols"
   ]
  },
  {
   "cell_type": "code",
   "execution_count": 7,
   "metadata": {},
   "outputs": [],
   "source": [
    "#패딩과 스트라이드를 고려한 im2col 함수\n",
    "def im2col(images, flt_h, flt_w, out_h, out_w, stride,pad):\n",
    "    \n",
    "    n_bt, n_ch, img_h, img_w = images.shape\n",
    "    \n",
    "    img_pad = np.pad(images, [(0,0), (0,0), (pad, pad), (pad, pad)], \"constant\")\n",
    "    cols = np.zeros((n_bt, n_ch, flt_h, flt_w, out_h, out_w))\n",
    "    \n",
    "    for h in range(flt_h):\n",
    "        h_lim = h + stride*out_h\n",
    "        for w in range(flt_w):\n",
    "            w_lim = w + stride*out_w\n",
    "            cols[:, :, h, w, :, :] = img_pad[:, :, h:h_lim:stride, w:w_lim:stride]\n",
    "            \n",
    "    cols = cols.transpose(1, 2, 3, 0, 4, 5).reshape(n_ch*flt_h*flt_w,n_bt*out_h*out_w)\n",
    "    return cols"
   ]
  },
  {
   "cell_type": "code",
   "execution_count": 8,
   "metadata": {},
   "outputs": [
    {
     "ename": "NameError",
     "evalue": "name 'np' is not defined",
     "output_type": "error",
     "traceback": [
      "\u001b[0;31m---------------------------------------------------------------------------\u001b[0m",
      "\u001b[0;31mNameError\u001b[0m                                 Traceback (most recent call last)",
      "\u001b[0;32m<ipython-input-8-b006f8b61407>\u001b[0m in \u001b[0;36m<module>\u001b[0;34m\u001b[0m\n\u001b[0;32m----> 1\u001b[0;31m img = np.array([[[[1, 2, 3, 4],\n\u001b[0m\u001b[1;32m      2\u001b[0m                   \u001b[0;34m[\u001b[0m\u001b[0;36m5\u001b[0m\u001b[0;34m,\u001b[0m \u001b[0;36m6\u001b[0m\u001b[0;34m,\u001b[0m \u001b[0;36m7\u001b[0m\u001b[0;34m,\u001b[0m \u001b[0;36m8\u001b[0m\u001b[0;34m]\u001b[0m\u001b[0;34m,\u001b[0m\u001b[0;34m\u001b[0m\u001b[0;34m\u001b[0m\u001b[0m\n\u001b[1;32m      3\u001b[0m                   \u001b[0;34m[\u001b[0m\u001b[0;36m9\u001b[0m\u001b[0;34m,\u001b[0m \u001b[0;36m10\u001b[0m\u001b[0;34m,\u001b[0m \u001b[0;36m11\u001b[0m\u001b[0;34m,\u001b[0m \u001b[0;36m12\u001b[0m\u001b[0;34m]\u001b[0m\u001b[0;34m,\u001b[0m\u001b[0;34m\u001b[0m\u001b[0;34m\u001b[0m\u001b[0m\n\u001b[1;32m      4\u001b[0m                   [13, 14, 15, 16]]]])\n\u001b[1;32m      5\u001b[0m \u001b[0mcols\u001b[0m \u001b[0;34m=\u001b[0m \u001b[0mim2col\u001b[0m\u001b[0;34m(\u001b[0m\u001b[0mimg\u001b[0m\u001b[0;34m,\u001b[0m \u001b[0;36m2\u001b[0m\u001b[0;34m,\u001b[0m \u001b[0;36m2\u001b[0m\u001b[0;34m,\u001b[0m \u001b[0;36m3\u001b[0m\u001b[0;34m,\u001b[0m \u001b[0;36m3\u001b[0m\u001b[0;34m,\u001b[0m \u001b[0;36m1\u001b[0m\u001b[0;34m,\u001b[0m \u001b[0;36m0\u001b[0m\u001b[0;34m)\u001b[0m\u001b[0;34m\u001b[0m\u001b[0;34m\u001b[0m\u001b[0m\n",
      "\u001b[0;31mNameError\u001b[0m: name 'np' is not defined"
     ]
    }
   ],
   "source": [
    "\n",
    "img = np.array([[[[1, 2, 3, 4],\n",
    "                  [5, 6, 7, 8],\n",
    "                  [9, 10, 11, 12],\n",
    "                  [13, 14, 15, 16]]]])\n",
    "cols = im2col(img, 2, 2, 3, 3, 1, 0)\n",
    "print(cols)"
   ]
  },
  {
   "cell_type": "code",
   "execution_count": null,
   "metadata": {},
   "outputs": [],
   "source": []
  }
 ],
 "metadata": {
  "kernelspec": {
   "display_name": "Python 3",
   "language": "python",
   "name": "python3"
  },
  "language_info": {
   "codemirror_mode": {
    "name": "ipython",
    "version": 3
   },
   "file_extension": ".py",
   "mimetype": "text/x-python",
   "name": "python",
   "nbconvert_exporter": "python",
   "pygments_lexer": "ipython3",
   "version": "3.8.3"
  }
 },
 "nbformat": 4,
 "nbformat_minor": 4
}
