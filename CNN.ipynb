{
 "cells": [
  {
   "cell_type": "code",
   "execution_count": 5,
   "metadata": {},
   "outputs": [],
   "source": [
    "#im2col 함수 정의\n",
    "import numpy as np\n",
    "\n",
    "def im2col(image, flt_h, flt_w, out_h, out_w):\n",
    "    \n",
    "    img_h, img_w = image.shape #입력 이미지의 높이와 너비\n",
    "    \n",
    "    #생성되는 행렬 크기\n",
    "    cols = np.zeros((flt_h*flt_w, out_h*out_w))\n",
    "    \n",
    "    for h in range(out_h):\n",
    "        h_lim = h + flt_h\n",
    "        for w in range(out_w):\n",
    "            w_lim = w + flt_w\n",
    "            cols[:, h*out_w+w] = image[h:h_lim, w:w_lim].reshape(-1)\n",
    "            \n",
    "    return cols"
   ]
  },
  {
   "cell_type": "code",
   "execution_count": 6,
   "metadata": {},
   "outputs": [
    {
     "name": "stdout",
     "output_type": "stream",
     "text": [
      "[[ 1.  2.  3.  5.  6.  7.  9. 10. 11.]\n",
      " [ 2.  3.  4.  6.  7.  8. 10. 11. 12.]\n",
      " [ 5.  6.  7.  9. 10. 11. 13. 14. 15.]\n",
      " [ 6.  7.  8. 10. 11. 12. 14. 15. 16.]]\n"
     ]
    }
   ],
   "source": [
    "#활용\n",
    "img = np.array([[1, 2, 3, 4],\n",
    "                [5, 6, 7, 8],\n",
    "                [9, 10,11,12],\n",
    "                [13,14,15,16]])\n",
    "cols = im2col(img, 2, 2, 3, 3)\n",
    "print(cols)"
   ]
  },
  {
   "cell_type": "code",
   "execution_count": 7,
   "metadata": {},
   "outputs": [],
   "source": [
    "#함수 수정\n",
    "def im2col(image, flt_h, flt_w, out_h, out_w):\n",
    "    img_h, img_w = image.shape\n",
    "    cols = np.zeros((flt_h, flt_w, out_h, out_w))\n",
    "    for h in range(flt_h):\n",
    "        h_lim = h + out_h\n",
    "        for w in range(flt_w):\n",
    "            w_lim = w + out_w\n",
    "            cols[h, w, :, :] = image[h:h_lim, w:w_lim]\n",
    "            \n",
    "    cols = cols.reshape(flt_h*flt_w, out_h*out_w)\n",
    "    \n",
    "    return cols"
   ]
  },
  {
   "cell_type": "code",
   "execution_count": 8,
   "metadata": {},
   "outputs": [
    {
     "name": "stdout",
     "output_type": "stream",
     "text": [
      "[[ 1.  2.  3.  5.  6.  7.  9. 10. 11.]\n",
      " [ 2.  3.  4.  6.  7.  8. 10. 11. 12.]\n",
      " [ 5.  6.  7.  9. 10. 11. 13. 14. 15.]\n",
      " [ 6.  7.  8. 10. 11. 12. 14. 15. 16.]]\n"
     ]
    }
   ],
   "source": [
    "print(cols)"
   ]
  },
  {
   "cell_type": "code",
   "execution_count": 11,
   "metadata": {},
   "outputs": [],
   "source": [
    "\n",
    "def im2col(image, flt_h, flt_w, out_h, out_w):\n",
    "    img_h, img_w = image.shape\n",
    "    cols = np.zeros((flt_h, flt_w, out_h, out_w))\n",
    "    for h in range(flt_h):\n",
    "        h_lim = h + out_h\n",
    "        for w in range(flt_w):\n",
    "            w_lim = w + out_w\n",
    "            cols[h, w, :, :] = image[h:h_lim, w:w_lim]\n",
    "            \n",
    "    cols= cols.reshape(flt_h*flt_w, out_h*out_w)\n",
    "    \n",
    "    return cols\n"
   ]
  },
  {
   "cell_type": "code",
   "execution_count": 12,
   "metadata": {},
   "outputs": [
    {
     "name": "stdout",
     "output_type": "stream",
     "text": [
      "[[ 1.  2.  3.  5.  6.  7.  9. 10. 11.]\n",
      " [ 2.  3.  4.  6.  7.  8. 10. 11. 12.]\n",
      " [ 5.  6.  7.  9. 10. 11. 13. 14. 15.]\n",
      " [ 6.  7.  8. 10. 11. 12. 14. 15. 16.]]\n"
     ]
    }
   ],
   "source": [
    "print(cols)"
   ]
  },
  {
   "cell_type": "code",
   "execution_count": null,
   "metadata": {},
   "outputs": [],
   "source": []
  }
 ],
 "metadata": {
  "kernelspec": {
   "display_name": "Python 3",
   "language": "python",
   "name": "python3"
  },
  "language_info": {
   "codemirror_mode": {
    "name": "ipython",
    "version": 3
   },
   "file_extension": ".py",
   "mimetype": "text/x-python",
   "name": "python",
   "nbconvert_exporter": "python",
   "pygments_lexer": "ipython3",
   "version": "3.8.3"
  }
 },
 "nbformat": 4,
 "nbformat_minor": 4
}
